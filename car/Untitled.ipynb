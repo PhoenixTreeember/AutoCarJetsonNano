{
 "cells": [
  {
   "cell_type": "code",
   "execution_count": null,
   "metadata": {},
   "outputs": [],
   "source": [
    "import sys\n",
    "from board import SCL, SDA\n",
    "import busio\n",
    "from adafruit_pca9685 import PCA9685\n",
    "from adafruit_motor import servo\n",
    "from adafruit_motor import motor\n",
    "import controller\n",
    "import traitlets\n",
    "#from jetbot import Camera"
   ]
  },
  {
   "cell_type": "code",
   "execution_count": null,
   "metadata": {},
   "outputs": [],
   "source": [
    "#init controller\n",
    "ps4 = controller.PS4Controller()\n",
    "ps4.init()\n",
    "\n",
    "#init i2c\n",
    "i2c = busio.I2C(SCL, SDA)\n",
    "\n",
    "#init PCA\n",
    "pca = PCA9685(i2c)\n",
    "pca.frequency = 50\n",
    "\n",
    "servo_steer = servo.Servo(pca.channels[0])\n",
    "esc = servo.ContinuousServo(pca.channels[1])\n"
   ]
  },
  {
   "cell_type": "code",
   "execution_count": null,
   "metadata": {},
   "outputs": [],
   "source": [
    "def scale_servo(x):\n",
    "    y = round((30-70)*x+1/1+1+70,2) #used to scale -1,1 to 0,180\n",
    "    return y\n",
    "\n",
    "def scale_esc(x):\n",
    "    y = round((x+1)/8,2) #used to scale -1,1 to 0,180\n",
    "    return y\n",
    "    \n",
    "def drive(axis_data):\n",
    "    servo_steer.angle = scale_servo(axis_data[0])\n",
    "    sum_inputs = round(-scale_esc(axis_data[4]) + scale_esc(axis_data[3]),2)\n",
    "    esc.throttle = sum_inputs\n",
    "    #print(sum_inputs)\n",
    "\n",
    "def toggle(x):\n",
    "    return not x"
   ]
  },
  {
   "cell_type": "code",
   "execution_count": null,
   "metadata": {},
   "outputs": [],
   "source": [
    "#init Camera\n",
    "#camera = Camera.instance(width=224, height=224)"
   ]
  },
  {
   "cell_type": "code",
   "execution_count": null,
   "metadata": {},
   "outputs": [],
   "source": [
    "try:\n",
    "    while True:\n",
    "        button_data, axis_data, hat_data = ps4.listen()\n",
    "        \n",
    "        if button_data[1] == True and trig:\n",
    "            train = toggle(train)\n",
    "            trig = False\n",
    "            print(train)\n",
    "        elif button_data[1] == False:\n",
    "            trig = True\n",
    "        else:\n",
    "            pass\n",
    "        \n",
    "        if train:\n",
    "            print('Training Mode!')\n",
    "            drive(axis_data)\n",
    "            csave_camera\n",
    "        else:\n",
    "            print('Auto Pilot Mode!')\n",
    "            \n",
    "\n",
    "\n",
    "except KeyboardInterrupt:\n",
    "        pca.deinit()\n",
    "        sys.exit(0)\n",
    "        "
   ]
  },
  {
   "cell_type": "code",
   "execution_count": null,
   "metadata": {},
   "outputs": [],
   "source": []
  }
 ],
 "metadata": {
  "kernelspec": {
   "display_name": "Python 3",
   "language": "python",
   "name": "python3"
  },
  "language_info": {
   "codemirror_mode": {
    "name": "ipython",
    "version": 3
   },
   "file_extension": ".py",
   "mimetype": "text/x-python",
   "name": "python",
   "nbconvert_exporter": "python",
   "pygments_lexer": "ipython3",
   "version": "3.6.7"
  }
 },
 "nbformat": 4,
 "nbformat_minor": 2
}
